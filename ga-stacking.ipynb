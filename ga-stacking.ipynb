{
 "cells": [
  {
   "cell_type": "markdown",
   "metadata": {},
   "source": [
    "# Import thư viện"
   ]
  },
  {
   "cell_type": "code",
   "execution_count": 1,
   "metadata": {
    "execution": {
     "iopub.execute_input": "2025-05-14T02:19:36.40016Z",
     "iopub.status.busy": "2025-05-14T02:19:36.399758Z",
     "iopub.status.idle": "2025-05-14T02:19:39.688113Z",
     "shell.execute_reply": "2025-05-14T02:19:39.686958Z",
     "shell.execute_reply.started": "2025-05-14T02:19:36.40012Z"
    },
    "trusted": true
   },
   "outputs": [],
   "source": [
    "import numpy as np\n",
    "import pandas as pd\n",
    "import matplotlib.pyplot as plt\n",
    "import os\n",
    "import math\n",
    "import random\n",
    "from sklearn.metrics import classification_report, confusion_matrix, roc_auc_score, f1_score\n",
    "from copy import deepcopy\n",
    "from sklearn.model_selection import train_test_split\n",
    "from sklearn.metrics import r2_score, mean_squared_error\n",
    "from sklearn.model_selection import KFold\n",
    "from sklearn.preprocessing import RobustScaler\n",
    "import seaborn as sns\n",
    "import time"
   ]
  },
  {
   "cell_type": "code",
   "execution_count": 2,
   "metadata": {
    "execution": {
     "iopub.execute_input": "2025-05-14T02:19:39.689752Z",
     "iopub.status.busy": "2025-05-14T02:19:39.689094Z",
     "iopub.status.idle": "2025-05-14T02:19:43.92647Z",
     "shell.execute_reply": "2025-05-14T02:19:43.925394Z",
     "shell.execute_reply.started": "2025-05-14T02:19:39.689707Z"
    },
    "trusted": true
   },
   "outputs": [],
   "source": [
    "from sklearn.linear_model import LogisticRegression\n",
    "from sklearn.svm import SVC\n",
    "from sklearn.ensemble import RandomForestClassifier\n",
    "from sklearn.neighbors import KNeighborsClassifier\n",
    "from catboost import CatBoostClassifier\n",
    "from xgboost import XGBClassifier\n",
    "from lightgbm import LGBMClassifier\n",
    "from sklearn.metrics import classification_report\n",
    "from xgboost import XGBClassifier\n",
    "from lightgbm import LGBMClassifier\n",
    "from catboost import CatBoostClassifier"
   ]
  },
  {
   "cell_type": "markdown",
   "metadata": {},
   "source": [
    "# Tiền xử lý"
   ]
  },
  {
   "cell_type": "code",
   "execution_count": 3,
   "metadata": {
    "execution": {
     "iopub.execute_input": "2025-05-14T02:19:43.929165Z",
     "iopub.status.busy": "2025-05-14T02:19:43.928441Z",
     "iopub.status.idle": "2025-05-14T02:19:48.072998Z",
     "shell.execute_reply": "2025-05-14T02:19:48.071875Z",
     "shell.execute_reply.started": "2025-05-14T02:19:43.92913Z"
    },
    "trusted": true
   },
   "outputs": [],
   "source": [
    "data_path = \"/kaggle/input/creditcardfraud/creditcard.csv\"\n",
    "df = pd.read_csv(data_path)"
   ]
  },
  {
   "cell_type": "code",
   "execution_count": 4,
   "metadata": {
    "execution": {
     "iopub.execute_input": "2025-05-14T02:19:48.074786Z",
     "iopub.status.busy": "2025-05-14T02:19:48.074383Z",
     "iopub.status.idle": "2025-05-14T02:19:48.673241Z",
     "shell.execute_reply": "2025-05-14T02:19:48.672133Z",
     "shell.execute_reply.started": "2025-05-14T02:19:48.074752Z"
    },
    "trusted": true
   },
   "outputs": [
    {
     "name": "stdout",
     "output_type": "stream",
     "text": [
      "<class 'pandas.core.frame.DataFrame'>\n",
      "RangeIndex: 284807 entries, 0 to 284806\n",
      "Data columns (total 31 columns):\n",
      " #   Column  Non-Null Count   Dtype  \n",
      "---  ------  --------------   -----  \n",
      " 0   Time    284807 non-null  float64\n",
      " 1   V1      284807 non-null  float64\n",
      " 2   V2      284807 non-null  float64\n",
      " 3   V3      284807 non-null  float64\n",
      " 4   V4      284807 non-null  float64\n",
      " 5   V5      284807 non-null  float64\n",
      " 6   V6      284807 non-null  float64\n",
      " 7   V7      284807 non-null  float64\n",
      " 8   V8      284807 non-null  float64\n",
      " 9   V9      284807 non-null  float64\n",
      " 10  V10     284807 non-null  float64\n",
      " 11  V11     284807 non-null  float64\n",
      " 12  V12     284807 non-null  float64\n",
      " 13  V13     284807 non-null  float64\n",
      " 14  V14     284807 non-null  float64\n",
      " 15  V15     284807 non-null  float64\n",
      " 16  V16     284807 non-null  float64\n",
      " 17  V17     284807 non-null  float64\n",
      " 18  V18     284807 non-null  float64\n",
      " 19  V19     284807 non-null  float64\n",
      " 20  V20     284807 non-null  float64\n",
      " 21  V21     284807 non-null  float64\n",
      " 22  V22     284807 non-null  float64\n",
      " 23  V23     284807 non-null  float64\n",
      " 24  V24     284807 non-null  float64\n",
      " 25  V25     284807 non-null  float64\n",
      " 26  V26     284807 non-null  float64\n",
      " 27  V27     284807 non-null  float64\n",
      " 28  V28     284807 non-null  float64\n",
      " 29  Amount  284807 non-null  float64\n",
      " 30  Class   284807 non-null  int64  \n",
      "dtypes: float64(30), int64(1)\n",
      "memory usage: 67.4 MB\n",
      "None\n",
      "                Time            V1            V2            V3            V4  \\\n",
      "count  284807.000000  2.848070e+05  2.848070e+05  2.848070e+05  2.848070e+05   \n",
      "mean    94813.859575  1.175161e-15  3.369007e-16 -1.379537e-15  2.094852e-15   \n",
      "std     47488.145955  1.958696e+00  1.651309e+00  1.516255e+00  1.415869e+00   \n",
      "min         0.000000 -5.640751e+01 -7.271573e+01 -4.832559e+01 -5.683171e+00   \n",
      "25%     54201.500000 -9.203734e-01 -5.985499e-01 -8.903648e-01 -8.486401e-01   \n",
      "50%     84692.000000  1.810880e-02  6.548556e-02  1.798463e-01 -1.984653e-02   \n",
      "75%    139320.500000  1.315642e+00  8.037239e-01  1.027196e+00  7.433413e-01   \n",
      "max    172792.000000  2.454930e+00  2.205773e+01  9.382558e+00  1.687534e+01   \n",
      "\n",
      "                 V5            V6            V7            V8            V9  \\\n",
      "count  2.848070e+05  2.848070e+05  2.848070e+05  2.848070e+05  2.848070e+05   \n",
      "mean   1.021879e-15  1.500885e-15 -5.620335e-16  1.149614e-16 -2.426963e-15   \n",
      "std    1.380247e+00  1.332271e+00  1.237094e+00  1.194353e+00  1.098632e+00   \n",
      "min   -1.137433e+02 -2.616051e+01 -4.355724e+01 -7.321672e+01 -1.343407e+01   \n",
      "25%   -6.915971e-01 -7.682956e-01 -5.540759e-01 -2.086297e-01 -6.430976e-01   \n",
      "50%   -5.433583e-02 -2.741871e-01  4.010308e-02  2.235804e-02 -5.142873e-02   \n",
      "75%    6.119264e-01  3.985649e-01  5.704361e-01  3.273459e-01  5.971390e-01   \n",
      "max    3.480167e+01  7.330163e+01  1.205895e+02  2.000721e+01  1.559499e+01   \n",
      "\n",
      "       ...           V21           V22           V23           V24  \\\n",
      "count  ...  2.848070e+05  2.848070e+05  2.848070e+05  2.848070e+05   \n",
      "mean   ...  1.596686e-16 -3.576577e-16  2.650499e-16  4.472317e-15   \n",
      "std    ...  7.345240e-01  7.257016e-01  6.244603e-01  6.056471e-01   \n",
      "min    ... -3.483038e+01 -1.093314e+01 -4.480774e+01 -2.836627e+00   \n",
      "25%    ... -2.283949e-01 -5.423504e-01 -1.618463e-01 -3.545861e-01   \n",
      "50%    ... -2.945017e-02  6.781943e-03 -1.119293e-02  4.097606e-02   \n",
      "75%    ...  1.863772e-01  5.285536e-01  1.476421e-01  4.395266e-01   \n",
      "max    ...  2.720284e+01  1.050309e+01  2.252841e+01  4.584549e+00   \n",
      "\n",
      "                V25           V26           V27           V28         Amount  \\\n",
      "count  2.848070e+05  2.848070e+05  2.848070e+05  2.848070e+05  284807.000000   \n",
      "mean   5.109395e-16  1.686100e-15 -3.662399e-16 -1.225457e-16      88.349619   \n",
      "std    5.212781e-01  4.822270e-01  4.036325e-01  3.300833e-01     250.120109   \n",
      "min   -1.029540e+01 -2.604551e+00 -2.256568e+01 -1.543008e+01       0.000000   \n",
      "25%   -3.171451e-01 -3.269839e-01 -7.083953e-02 -5.295979e-02       5.600000   \n",
      "50%    1.659350e-02 -5.213911e-02  1.342146e-03  1.124383e-02      22.000000   \n",
      "75%    3.507156e-01  2.409522e-01  9.104512e-02  7.827995e-02      77.165000   \n",
      "max    7.519589e+00  3.517346e+00  3.161220e+01  3.384781e+01   25691.160000   \n",
      "\n",
      "               Class  \n",
      "count  284807.000000  \n",
      "mean        0.001727  \n",
      "std         0.041527  \n",
      "min         0.000000  \n",
      "25%         0.000000  \n",
      "50%         0.000000  \n",
      "75%         0.000000  \n",
      "max         1.000000  \n",
      "\n",
      "[8 rows x 31 columns]\n",
      "Time      0\n",
      "V1        0\n",
      "V2        0\n",
      "V3        0\n",
      "V4        0\n",
      "V5        0\n",
      "V6        0\n",
      "V7        0\n",
      "V8        0\n",
      "V9        0\n",
      "V10       0\n",
      "V11       0\n",
      "V12       0\n",
      "V13       0\n",
      "V14       0\n",
      "V15       0\n",
      "V16       0\n",
      "V17       0\n",
      "V18       0\n",
      "V19       0\n",
      "V20       0\n",
      "V21       0\n",
      "V22       0\n",
      "V23       0\n",
      "V24       0\n",
      "V25       0\n",
      "V26       0\n",
      "V27       0\n",
      "V28       0\n",
      "Amount    0\n",
      "Class     0\n",
      "dtype: int64\n"
     ]
    }
   ],
   "source": [
    "print(df.info())\n",
    "print(df.describe())\n",
    "print(df.isnull().sum())  # Check missing values\n"
   ]
  },
  {
   "cell_type": "code",
   "execution_count": 5,
   "metadata": {
    "execution": {
     "iopub.execute_input": "2025-05-14T02:20:55.655188Z",
     "iopub.status.busy": "2025-05-14T02:20:55.654657Z",
     "iopub.status.idle": "2025-05-14T02:20:55.950802Z",
     "shell.execute_reply": "2025-05-14T02:20:55.949528Z",
     "shell.execute_reply.started": "2025-05-14T02:20:55.655144Z"
    },
    "trusted": true
   },
   "outputs": [
    {
     "data": {
      "image/png": "[encoded data removed]",
      "text/plain": [
       "<Figure size 600x400 with 1 Axes>"
      ]
     },
     "metadata": {},
     "output_type": "display_data"
    }
   ],
   "source": [
    "# 3. Check class distribution\n",
    "plt.figure(figsize=(6,4))\n",
    "sns.countplot(x='Class', data=df, palette='coolwarm')\n",
    "plt.title(\"Distribution of Fraudulent vs. Non-Fraudulent Transactions\")\n",
    "plt.show()\n"
   ]
  },
  {
   "cell_type": "code",
   "execution_count": 10,
   "metadata": {
    "execution": {
     "iopub.execute_input": "2025-05-13T15:24:21.249856Z",
     "iopub.status.busy": "2025-05-13T15:24:21.249292Z",
     "iopub.status.idle": "2025-05-13T15:24:21.269609Z",
     "shell.execute_reply": "2025-05-13T15:24:21.26816Z",
     "shell.execute_reply.started": "2025-05-13T15:24:21.249811Z"
    },
    "trusted": true
   },
   "outputs": [
    {
     "name": "stderr",
     "output_type": "stream",
     "text": [
      "<ipython-input-10-c3fbf6c3b59e>:2: SettingWithCopyWarning: \n",
      "A value is trying to be set on a copy of a slice from a DataFrame\n",
      "\n",
      "See the caveats in the documentation: https://pandas.pydata.org/pandas-docs/stable/user_guide/indexing.html#returning-a-view-versus-a-copy\n",
      "  data.dropna(inplace=True)  # Hoặc thay thế giá trị thiếu nếu cần\n"
     ]
    }
   ],
   "source": [
    "# 4. Handle missing values (if any)\n",
    "data.dropna(inplace=True)  # Hoặc thay thế giá trị thiếu nếu cần"
   ]
  },
  {
   "cell_type": "code",
   "execution_count": 6,
   "metadata": {
    "execution": {
     "iopub.execute_input": "2025-05-14T02:21:03.456054Z",
     "iopub.status.busy": "2025-05-14T02:21:03.455526Z",
     "iopub.status.idle": "2025-05-14T02:21:03.687177Z",
     "shell.execute_reply": "2025-05-14T02:21:03.685642Z",
     "shell.execute_reply.started": "2025-05-14T02:21:03.456011Z"
    },
    "trusted": true
   },
   "outputs": [
    {
     "ename": "NameError",
     "evalue": "name 'data' is not defined",
     "output_type": "error",
     "traceback": [
      "\u001b[0;31m---------------------------------------------------------------------------\u001b[0m",
      "\u001b[0;31mNameError\u001b[0m                                 Traceback (most recent call last)",
      "\u001b[0;32m<ipython-input-6-c87b2d8bdd9f>\u001b[0m in \u001b[0;36m<cell line: 2>\u001b[0;34m()\u001b[0m\n\u001b[1;32m      1\u001b[0m \u001b[0;31m# Phân bố giá trị giao dịch\u001b[0m\u001b[0;34m\u001b[0m\u001b[0;34m\u001b[0m\u001b[0m\n\u001b[0;32m----> 2\u001b[0;31m \u001b[0msns\u001b[0m\u001b[0;34m.\u001b[0m\u001b[0mhistplot\u001b[0m\u001b[0;34m(\u001b[0m\u001b[0mdata\u001b[0m\u001b[0;34m[\u001b[0m\u001b[0;34m'Amount'\u001b[0m\u001b[0;34m]\u001b[0m\u001b[0;34m,\u001b[0m \u001b[0mbins\u001b[0m\u001b[0;34m=\u001b[0m\u001b[0;36m100\u001b[0m\u001b[0;34m,\u001b[0m \u001b[0mkde\u001b[0m\u001b[0;34m=\u001b[0m\u001b[0;32mTrue\u001b[0m\u001b[0;34m)\u001b[0m\u001b[0;34m\u001b[0m\u001b[0;34m\u001b[0m\u001b[0m\n\u001b[0m\u001b[1;32m      3\u001b[0m \u001b[0mplt\u001b[0m\u001b[0;34m.\u001b[0m\u001b[0mtitle\u001b[0m\u001b[0;34m(\u001b[0m\u001b[0;34m'Phân bố số tiền giao dịch'\u001b[0m\u001b[0;34m)\u001b[0m\u001b[0;34m\u001b[0m\u001b[0;34m\u001b[0m\u001b[0m\n\u001b[1;32m      4\u001b[0m \u001b[0;34m\u001b[0m\u001b[0m\n\u001b[1;32m      5\u001b[0m \u001b[0;31m# Tương quan đặc trưng (nếu đã PCA hóa thì dùng heatmap)\u001b[0m\u001b[0;34m\u001b[0m\u001b[0;34m\u001b[0m\u001b[0m\n",
      "\u001b[0;31mNameError\u001b[0m: name 'data' is not defined"
     ]
    }
   ],
   "source": [
    "# Phân bố giá trị giao dịch\n",
    "sns.histplot(data['Amount'], bins=100, kde=True)\n",
    "plt.title('Phân bố số tiền giao dịch')\n",
    "\n",
    "# Tương quan đặc trưng (nếu đã PCA hóa thì dùng heatmap)\n",
    "plt.figure(figsize=(12,10))\n",
    "sns.heatmap(data.corr(), cmap='coolwarm', annot=False)"
   ]
  },
  {
   "cell_type": "code",
   "execution_count": 8,
   "metadata": {
    "execution": {
     "iopub.execute_input": "2025-05-14T02:21:28.000944Z",
     "iopub.status.busy": "2025-05-14T02:21:28.000413Z",
     "iopub.status.idle": "2025-05-14T02:21:28.635736Z",
     "shell.execute_reply": "2025-05-14T02:21:28.634695Z",
     "shell.execute_reply.started": "2025-05-14T02:21:28.000902Z"
    },
    "trusted": true
   },
   "outputs": [],
   "source": [
    "# Chia dữ liệu thành đặc trưng và mục tiêu\n",
    "X = df.drop(['Time','Class'], axis=1)\n",
    "y = df['Class']\n",
    "\n",
    "# 2. Chia theo tỉ lệ 70:20:10\n",
    "X_train, X_temp, y_train, y_temp = train_test_split(\n",
    "    X, y, test_size=0.3, stratify=y, random_state=42\n",
    ")\n",
    "\n",
    "X_val, X_test, y_val, y_test = train_test_split(\n",
    "    X_temp, y_temp, test_size=2/3, stratify=y_temp, random_state=42\n",
    ")\n",
    "\n",
    "# 3. Chuẩn hóa với StandardScaler trên train\n",
    "scaler = RobustScaler()\n",
    "X_train_scaled = scaler.fit_transform(X_train)\n",
    "\n",
    "# 4. Dùng scaler đã fit để transform val và test\n",
    "X_val_scaled = scaler.transform(X_val)\n",
    "X_test_scaled = scaler.transform(X_test)\n",
    "\n"
   ]
  },
  {
   "cell_type": "code",
   "execution_count": 9,
   "metadata": {
    "execution": {
     "iopub.execute_input": "2025-05-14T02:21:38.224069Z",
     "iopub.status.busy": "2025-05-14T02:21:38.223662Z",
     "iopub.status.idle": "2025-05-14T02:21:38.804193Z",
     "shell.execute_reply": "2025-05-14T02:21:38.803045Z",
     "shell.execute_reply.started": "2025-05-14T02:21:38.22404Z"
    },
    "trusted": true
   },
   "outputs": [],
   "source": [
    "from imblearn.over_sampling import SMOTE\n",
    "\n",
    "# Áp dụng SMOTE chỉ cho tập train\n",
    "smote = SMOTE(random_state=42)\n",
    "X_train_res, y_train_res = smote.fit_resample(X_train_scaled, y_train)"
   ]
  },
  {
   "cell_type": "markdown",
   "metadata": {},
   "source": [
    "# GA + Stacking"
   ]
  },
  {
   "cell_type": "code",
   "execution_count": 10,
   "metadata": {
    "execution": {
     "iopub.execute_input": "2025-05-14T02:21:44.737023Z",
     "iopub.status.busy": "2025-05-14T02:21:44.736246Z",
     "iopub.status.idle": "2025-05-14T02:21:44.746454Z",
     "shell.execute_reply": "2025-05-14T02:21:44.745153Z",
     "shell.execute_reply.started": "2025-05-14T02:21:44.736987Z"
    },
    "trusted": true
   },
   "outputs": [],
   "source": [
    "from sklearn.linear_model import LogisticRegression\n",
    "from sklearn.svm import SVC\n",
    "from sklearn.ensemble import RandomForestClassifier\n",
    "from sklearn.neighbors import KNeighborsClassifier\n",
    "from catboost import CatBoostClassifier\n",
    "from lightgbm import LGBMClassifier\n",
    "from xgboost import XGBClassifier\n",
    "\n",
    "from sklearn.base import clone\n",
    "\n",
    "BASE_MODELS = {\n",
    "    'lr': LogisticRegression(solver='liblinear'),\n",
    "    'svc': SVC(probability=True),\n",
    "    'rf': RandomForestClassifier(n_estimators=100),\n",
    "    'knn': KNeighborsClassifier(n_neighbors=5),\n",
    "    'catboost': CatBoostClassifier(verbose=0),\n",
    "    'lgbm': LGBMClassifier(),\n",
    "    'xgb': XGBClassifier(use_label_encoder=False, eval_metric='logloss')\n",
    "}\n",
    "\n",
    "META_MODELS = {\n",
    "    'lg': LogisticRegression(solver='liblinear')\n",
    "}\n"
   ]
  },
  {
   "cell_type": "code",
   "execution_count": 12,
   "metadata": {
    "execution": {
     "iopub.execute_input": "2025-05-14T02:22:03.88791Z",
     "iopub.status.busy": "2025-05-14T02:22:03.887524Z",
     "iopub.status.idle": "2025-05-14T02:22:03.895094Z",
     "shell.execute_reply": "2025-05-14T02:22:03.893921Z",
     "shell.execute_reply.started": "2025-05-14T02:22:03.887871Z"
    },
    "trusted": true
   },
   "outputs": [],
   "source": [
    "from sklearn.model_selection import StratifiedKFold\n",
    "import numpy as np\n",
    "\n",
    "def generate_meta_features(\n",
    "    X: np.ndarray,\n",
    "    y: np.ndarray,\n",
    "    model_dict: dict,\n",
    "    n_splits: int = 5\n",
    ") -> np.ndarray:\n",
    "    \"\"\"\n",
    "    Input:\n",
    "      X: array (n_samples, n_features)\n",
    "      y: array (n_samples,)\n",
    "      model_dict: dict of name->unfitted model\n",
    "    Output:\n",
    "      meta_X: array (n_samples, n_base_models)\n",
    "    \"\"\"\n",
    "    y = np.asarray(y)\n",
    "    n_samples = X.shape[0]\n",
    "    n_models = len(model_dict)\n",
    "    meta_X = np.zeros((n_samples, n_models))\n",
    "    skf = StratifiedKFold(n_splits=n_splits, shuffle=True, random_state=42)\n",
    "    keys = list(model_dict.keys())\n",
    "\n",
    "    \n",
    "    for idx, name in enumerate(keys):\n",
    "        model = model_dict[name]\n",
    "        for train_idx, val_idx in skf.split(X, y):\n",
    "            m = clone(model)\n",
    "            m.fit(X[train_idx], y[train_idx])\n",
    "            meta_X[val_idx, idx] = m.predict_proba(X[val_idx])[:, 1]\n",
    "    return meta_X\n"
   ]
  },
  {
   "cell_type": "code",
   "execution_count": 13,
   "metadata": {
    "execution": {
     "iopub.execute_input": "2025-05-14T02:22:35.47101Z",
     "iopub.status.busy": "2025-05-14T02:22:35.470576Z",
     "iopub.status.idle": "2025-05-14T02:22:35.490127Z",
     "shell.execute_reply": "2025-05-14T02:22:35.488901Z",
     "shell.execute_reply.started": "2025-05-14T02:22:35.470974Z"
    },
    "trusted": true
   },
   "outputs": [],
   "source": [
    "# 3. Khởi tạo population trọng số\n",
    "\n",
    "def initialize_population(pop_size: int, n_models: int):\n",
    "    population = []\n",
    "    for _ in range(pop_size):\n",
    "        w = np.random.rand(n_models)\n",
    "        w /= w.sum()\n",
    "        population.append(w)\n",
    "    return population\n",
    "\n",
    "# 4. Đánh giá population trên meta-features\n",
    "\n",
    "def evaluate(\n",
    "    population: list,\n",
    "    meta_X: np.ndarray,\n",
    "    y_true: np.ndarray,\n",
    "    metric: str = 'auc'\n",
    "):\n",
    "    scores = []\n",
    "    for w in population:\n",
    "        w = w / w.sum()\n",
    "        ens = np.dot(meta_X, w)\n",
    "        if metric == 'auc':\n",
    "            scores.append(roc_auc_score(y_true, ens))\n",
    "        elif metric == 'f1':\n",
    "            scores.append(f1_score(y_true, ens > 0.5))\n",
    "        else:\n",
    "            raise ValueError('Unsupported metric')\n",
    "    idx = np.argsort(scores)[::-1]\n",
    "    return [scores[i] for i in idx], [population[i] for i in idx]\n",
    "\n",
    "# 5. Các operators GA: selection, crossover, mutation\n",
    "\n",
    "def selection(pop: list, scores: list):\n",
    "    next_pop = [pop[0]]  # elitism\n",
    "    while len(next_pop) < len(pop):\n",
    "        candidates = random.sample(list(zip(pop, scores)), k=4)\n",
    "        best = max(candidates, key=lambda x: x[1])[0]\n",
    "        next_pop.append(best)\n",
    "    return next_pop\n",
    "\n",
    "\n",
    "def crossover(pop: list, prob: float):\n",
    "    next_pop = [pop[0]]\n",
    "    i = 1\n",
    "    while i < len(pop):\n",
    "        if random.random() < prob and i+1 < len(pop):\n",
    "            p1, p2 = pop[i], pop[i+1]\n",
    "            alpha = random.random()\n",
    "            c1 = alpha*p1 + (1-alpha)*p2\n",
    "            c2 = alpha*p2 + (1-alpha)*p1\n",
    "            next_pop += [c1/ c1.sum(), c2/ c2.sum()]\n",
    "            i += 2\n",
    "        else:\n",
    "            next_pop.append(pop[i])\n",
    "            i += 1\n",
    "    while len(next_pop) < len(pop):\n",
    "        next_pop.append(random.choice(pop))\n",
    "    return next_pop\n",
    "\n",
    "\n",
    "def mutation(pop: list, prob: float, scale: float = 0.1):\n",
    "    next_pop = [pop[0]]\n",
    "    for ind in pop[1:]:\n",
    "        for j in range(len(ind)):\n",
    "            if random.random() < prob:\n",
    "                ind[j] += np.random.normal(0, scale)\n",
    "        ind[ind < 0] = 1e-4\n",
    "        ind /= ind.sum()\n",
    "        next_pop.append(ind)\n",
    "    return next_pop\n",
    "\n",
    "# 6. Chạy GA trên meta_X_val để tìm best_weights\n",
    "\n",
    "\n",
    "\n",
    "def GA_weighted(\n",
    "    meta_X_train: np.ndarray,\n",
    "    y_train: np.ndarray,\n",
    "    meta_X_val: np.ndarray,\n",
    "    y_val: np.ndarray,\n",
    "    pop_size: int = 50,\n",
    "    generations: int = 30,\n",
    "    crossover_prob: float = 0.6,\n",
    "    mutation_prob: float = 0.3,\n",
    "    metric: str = 'auc',\n",
    "    verbose: bool = True,\n",
    "    top_k: int = 3\n",
    "):\n",
    "    n_models = meta_X_train.shape[1]\n",
    "    population = initialize_population(pop_size, n_models)\n",
    "\n",
    "    for gen in range(generations):\n",
    "        start_time = time.time()\n",
    "\n",
    "        scores, population = evaluate(population, meta_X_val, y_val, metric)\n",
    "        population = selection(population, scores)\n",
    "        population = crossover(population, crossover_prob)\n",
    "        population = mutation(population, mutation_prob)\n",
    "\n",
    "        end_time = time.time()\n",
    "\n",
    "        if verbose:\n",
    "            best_score = scores[0]\n",
    "            mean_score = np.mean(scores)\n",
    "            std_score = np.std(scores)\n",
    "            print(f\"[Gen {gen+1:02d}/{generations}] Best {metric.upper()}: {best_score:.4f} | \"\n",
    "                  f\"Mean: {mean_score:.4f} | Std: {std_score:.4f} | Time: {end_time - start_time:.2f}s\")\n",
    "            print(f\" → Top-{top_k} scores: {np.round(scores[:top_k], 4)}\")\n",
    "            print(f\" → Best weights: {np.round(population[0], 4)}\\n\")\n",
    "\n",
    "    return population[0]\n"
   ]
  },
  {
   "cell_type": "code",
   "execution_count": null,
   "metadata": {
    "execution": {
     "iopub.execute_input": "2025-05-14T02:23:17.976444Z",
     "iopub.status.busy": "2025-05-14T02:23:17.97611Z"
    },
    "trusted": true
   },
   "outputs": [],
   "source": [
    "# Giả sử bạn đã có X_train_scaled, y_train, X_val_scaled, y_val, X_test_scaled, y_test\n",
    "\n",
    "# 1. Sinh meta_X_train dùng K-fold\n",
    "meta_X_train = generate_meta_features(X_train_res, y_train_res, BASE_MODELS)\n",
    "\n",
    "# 2. Train từng base model trên full X_train_scaled\n",
    "trained_models = []\n",
    "for model in BASE_MODELS.values():\n",
    "    m = clone(model)\n",
    "    m.fit(X_train_res, y_train_res)\n",
    "    trained_models.append(m)\n",
    "\n",
    "# 3. Sinh meta_X_val và meta_X_test dùng trained_models\n",
    "meta_X_val = np.column_stack([m.predict_proba(X_val_scaled)[:,1] for m in trained_models])\n",
    "meta_X_test = np.column_stack([m.predict_proba(X_test_scaled)[:,1] for m in trained_models])\n",
    "\n",
    "# 4. Chạy GA để tìm best_weights\n",
    "best_weights = GA_weighted(\n",
    "    meta_X_train, y_train_res,\n",
    "    meta_X_val, y_val,\n",
    "    pop_size=10, generations=5,\n",
    "    crossover_prob=0.6, mutation_prob=0.3,\n",
    "    metric='auc'\n",
    ")\n",
    "print('Best weights:', best_weights)\n",
    "\n",
    "# 5. Đánh giá trên test set\n",
    "\n",
    "final_proba = np.dot(meta_X_test, best_weights)\n",
    "print('Test AUC:', roc_auc_score(y_test, final_proba))\n",
    "print('Test F1 :', f1_score(y_test, final_proba > 0.5))\n"
   ]
  },
  {
   "cell_type": "code",
   "execution_count": null,
   "metadata": {
    "trusted": true
   },
   "outputs": [],
   "source": []
  }
 ],
 "metadata": {
  "kaggle": {
   "accelerator": "none",
   "dataSources": [
    {
     "datasetId": 310,
     "sourceId": 23498,
     "sourceType": "datasetVersion"
    }
   ],
   "dockerImageVersionId": 30918,
   "isGpuEnabled": false,
   "isInternetEnabled": false,
   "language": "python",
   "sourceType": "notebook"
  },
  "kernelspec": {
   "display_name": "Python 3",
   "language": "python",
   "name": "python3"
  },
  "language_info": {
   "codemirror_mode": {
    "name": "ipython",
    "version": 3
   },
   "file_extension": ".py",
   "mimetype": "text/x-python",
   "name": "python",
   "nbconvert_exporter": "python",
   "pygments_lexer": "ipython3",
   "version": "3.10.12"
  }
 },
 "nbformat": 4,
 "nbformat_minor": 4
}
